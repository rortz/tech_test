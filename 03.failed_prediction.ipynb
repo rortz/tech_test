{
 "cells": [
  {
   "cell_type": "markdown",
   "id": "626cce78",
   "metadata": {},
   "source": [
    "# Previsão de Falha\n",
    "### Instale dependências necessarias via:\n",
    "```\n",
    "pip instal requirements.txt\n",
    "```"
   ]
  },
  {
   "cell_type": "code",
   "execution_count": 88,
   "id": "d8660234",
   "metadata": {},
   "outputs": [],
   "source": [
    "import logging\n",
    "import warnings\n",
    "import numpy as np\n",
    "import pandas as pd\n",
    "\n",
    "from imblearn.over_sampling import SMOTE\n",
    "from sklearn.model_selection import KFold\n",
    "from sklearn.model_selection import RepeatedKFold\n",
    "from sklearn.model_selection import cross_val_score\n",
    "from sklearn.linear_model import LogisticRegression\n",
    "from sklearn.model_selection import train_test_split\n",
    "from sklearn.metrics import accuracy_score, f1_score, log_loss, roc_auc_score, roc_curve, ConfusionMatrixDisplay\n",
    "\n",
    "import matplotlib.pyplot as plt"
   ]
  },
  {
   "cell_type": "code",
   "execution_count": 2,
   "id": "4dd10226",
   "metadata": {
    "scrolled": true
   },
   "outputs": [
    {
     "data": {
      "text/html": [
       "<div>\n",
       "<style scoped>\n",
       "    .dataframe tbody tr th:only-of-type {\n",
       "        vertical-align: middle;\n",
       "    }\n",
       "\n",
       "    .dataframe tbody tr th {\n",
       "        vertical-align: top;\n",
       "    }\n",
       "\n",
       "    .dataframe thead th {\n",
       "        text-align: right;\n",
       "    }\n",
       "</style>\n",
       "<table border=\"1\" class=\"dataframe\">\n",
       "  <thead>\n",
       "    <tr style=\"text-align: right;\">\n",
       "      <th></th>\n",
       "      <th>date</th>\n",
       "      <th>device</th>\n",
       "      <th>failure</th>\n",
       "      <th>attribute1</th>\n",
       "      <th>attribute2</th>\n",
       "      <th>attribute3</th>\n",
       "      <th>attribute4</th>\n",
       "      <th>attribute5</th>\n",
       "      <th>attribute6</th>\n",
       "      <th>attribute7</th>\n",
       "      <th>attribute8</th>\n",
       "      <th>attribute9</th>\n",
       "    </tr>\n",
       "  </thead>\n",
       "  <tbody>\n",
       "    <tr>\n",
       "      <th>0</th>\n",
       "      <td>2015-01-01</td>\n",
       "      <td>S1F01085</td>\n",
       "      <td>0</td>\n",
       "      <td>215630672</td>\n",
       "      <td>56</td>\n",
       "      <td>0</td>\n",
       "      <td>52</td>\n",
       "      <td>6</td>\n",
       "      <td>407438</td>\n",
       "      <td>0</td>\n",
       "      <td>0</td>\n",
       "      <td>7</td>\n",
       "    </tr>\n",
       "    <tr>\n",
       "      <th>1</th>\n",
       "      <td>2015-01-01</td>\n",
       "      <td>S1F0166B</td>\n",
       "      <td>0</td>\n",
       "      <td>61370680</td>\n",
       "      <td>0</td>\n",
       "      <td>3</td>\n",
       "      <td>0</td>\n",
       "      <td>6</td>\n",
       "      <td>403174</td>\n",
       "      <td>0</td>\n",
       "      <td>0</td>\n",
       "      <td>0</td>\n",
       "    </tr>\n",
       "    <tr>\n",
       "      <th>2</th>\n",
       "      <td>2015-01-01</td>\n",
       "      <td>S1F01E6Y</td>\n",
       "      <td>0</td>\n",
       "      <td>173295968</td>\n",
       "      <td>0</td>\n",
       "      <td>0</td>\n",
       "      <td>0</td>\n",
       "      <td>12</td>\n",
       "      <td>237394</td>\n",
       "      <td>0</td>\n",
       "      <td>0</td>\n",
       "      <td>0</td>\n",
       "    </tr>\n",
       "    <tr>\n",
       "      <th>3</th>\n",
       "      <td>2015-01-01</td>\n",
       "      <td>S1F01JE0</td>\n",
       "      <td>0</td>\n",
       "      <td>79694024</td>\n",
       "      <td>0</td>\n",
       "      <td>0</td>\n",
       "      <td>0</td>\n",
       "      <td>6</td>\n",
       "      <td>410186</td>\n",
       "      <td>0</td>\n",
       "      <td>0</td>\n",
       "      <td>0</td>\n",
       "    </tr>\n",
       "    <tr>\n",
       "      <th>4</th>\n",
       "      <td>2015-01-01</td>\n",
       "      <td>S1F01R2B</td>\n",
       "      <td>0</td>\n",
       "      <td>135970480</td>\n",
       "      <td>0</td>\n",
       "      <td>0</td>\n",
       "      <td>0</td>\n",
       "      <td>15</td>\n",
       "      <td>313173</td>\n",
       "      <td>0</td>\n",
       "      <td>0</td>\n",
       "      <td>3</td>\n",
       "    </tr>\n",
       "    <tr>\n",
       "      <th>...</th>\n",
       "      <td>...</td>\n",
       "      <td>...</td>\n",
       "      <td>...</td>\n",
       "      <td>...</td>\n",
       "      <td>...</td>\n",
       "      <td>...</td>\n",
       "      <td>...</td>\n",
       "      <td>...</td>\n",
       "      <td>...</td>\n",
       "      <td>...</td>\n",
       "      <td>...</td>\n",
       "      <td>...</td>\n",
       "    </tr>\n",
       "    <tr>\n",
       "      <th>124489</th>\n",
       "      <td>2015-11-02</td>\n",
       "      <td>Z1F0MA1S</td>\n",
       "      <td>0</td>\n",
       "      <td>18310224</td>\n",
       "      <td>0</td>\n",
       "      <td>0</td>\n",
       "      <td>0</td>\n",
       "      <td>10</td>\n",
       "      <td>353705</td>\n",
       "      <td>8</td>\n",
       "      <td>8</td>\n",
       "      <td>0</td>\n",
       "    </tr>\n",
       "    <tr>\n",
       "      <th>124490</th>\n",
       "      <td>2015-11-02</td>\n",
       "      <td>Z1F0Q8RT</td>\n",
       "      <td>0</td>\n",
       "      <td>172556680</td>\n",
       "      <td>96</td>\n",
       "      <td>107</td>\n",
       "      <td>4</td>\n",
       "      <td>11</td>\n",
       "      <td>332792</td>\n",
       "      <td>0</td>\n",
       "      <td>0</td>\n",
       "      <td>13</td>\n",
       "    </tr>\n",
       "    <tr>\n",
       "      <th>124491</th>\n",
       "      <td>2015-11-02</td>\n",
       "      <td>Z1F0QK05</td>\n",
       "      <td>0</td>\n",
       "      <td>19029120</td>\n",
       "      <td>4832</td>\n",
       "      <td>0</td>\n",
       "      <td>0</td>\n",
       "      <td>11</td>\n",
       "      <td>350410</td>\n",
       "      <td>0</td>\n",
       "      <td>0</td>\n",
       "      <td>0</td>\n",
       "    </tr>\n",
       "    <tr>\n",
       "      <th>124492</th>\n",
       "      <td>2015-11-02</td>\n",
       "      <td>Z1F0QL3N</td>\n",
       "      <td>0</td>\n",
       "      <td>226953408</td>\n",
       "      <td>0</td>\n",
       "      <td>0</td>\n",
       "      <td>0</td>\n",
       "      <td>12</td>\n",
       "      <td>358980</td>\n",
       "      <td>0</td>\n",
       "      <td>0</td>\n",
       "      <td>0</td>\n",
       "    </tr>\n",
       "    <tr>\n",
       "      <th>124493</th>\n",
       "      <td>2015-11-02</td>\n",
       "      <td>Z1F0QLC1</td>\n",
       "      <td>0</td>\n",
       "      <td>17572840</td>\n",
       "      <td>0</td>\n",
       "      <td>0</td>\n",
       "      <td>0</td>\n",
       "      <td>10</td>\n",
       "      <td>351431</td>\n",
       "      <td>0</td>\n",
       "      <td>0</td>\n",
       "      <td>0</td>\n",
       "    </tr>\n",
       "  </tbody>\n",
       "</table>\n",
       "<p>124494 rows × 12 columns</p>\n",
       "</div>"
      ],
      "text/plain": [
       "              date    device  failure  attribute1  attribute2  attribute3  \\\n",
       "0       2015-01-01  S1F01085        0   215630672          56           0   \n",
       "1       2015-01-01  S1F0166B        0    61370680           0           3   \n",
       "2       2015-01-01  S1F01E6Y        0   173295968           0           0   \n",
       "3       2015-01-01  S1F01JE0        0    79694024           0           0   \n",
       "4       2015-01-01  S1F01R2B        0   135970480           0           0   \n",
       "...            ...       ...      ...         ...         ...         ...   \n",
       "124489  2015-11-02  Z1F0MA1S        0    18310224           0           0   \n",
       "124490  2015-11-02  Z1F0Q8RT        0   172556680          96         107   \n",
       "124491  2015-11-02  Z1F0QK05        0    19029120        4832           0   \n",
       "124492  2015-11-02  Z1F0QL3N        0   226953408           0           0   \n",
       "124493  2015-11-02  Z1F0QLC1        0    17572840           0           0   \n",
       "\n",
       "        attribute4  attribute5  attribute6  attribute7  attribute8  attribute9  \n",
       "0               52           6      407438           0           0           7  \n",
       "1                0           6      403174           0           0           0  \n",
       "2                0          12      237394           0           0           0  \n",
       "3                0           6      410186           0           0           0  \n",
       "4                0          15      313173           0           0           3  \n",
       "...            ...         ...         ...         ...         ...         ...  \n",
       "124489           0          10      353705           8           8           0  \n",
       "124490           4          11      332792           0           0          13  \n",
       "124491           0          11      350410           0           0           0  \n",
       "124492           0          12      358980           0           0           0  \n",
       "124493           0          10      351431           0           0           0  \n",
       "\n",
       "[124494 rows x 12 columns]"
      ]
     },
     "execution_count": 2,
     "metadata": {},
     "output_type": "execute_result"
    }
   ],
   "source": [
    "data = pd.read_csv('data/full_devices.csv',encoding = \"ISO-8859-1\")\n",
    "data"
   ]
  },
  {
   "cell_type": "markdown",
   "id": "ea60fd46",
   "metadata": {},
   "source": [
    "### Preliminares\n",
    "Os dados sofrem de um forte desbalanceamento de classes (a classificação de falha é rara).\n",
    "\n",
    "No geral, existem algumas estratégias para amenizar esse problema em problemas de classificação clássico:\n",
    "* realizar reamostragem (_bootstrap_) afim de inflar a classe minoritária;\n",
    "* realizar amostragem na classe majoritária, afim de diminuir sua incidência;\n",
    "* geração de dados artificiais (SMOTE) para melhorar a diversidade da classe minoritária e aumentar seu volume;\n",
    "* balanceamento por penalidade (inverso da frequência de cada classe);\n",
    "* cruzamento de dados, onde se extrai dados de fontes externas para aumentar a cobertura da classe minoritária.\n",
    "\n",
    "Dentre essas estratégias, julgamos a mais adequada a aplicação de SMOTE (uma vez que há uma raridade latente de falhas identificadas, possibilitando aumentar não só a cobertura como a variabilidade das informações dentro dessa classe)."
   ]
  },
  {
   "cell_type": "code",
   "execution_count": 91,
   "id": "847626a7",
   "metadata": {},
   "outputs": [
    {
     "data": {
      "image/png": "[encoded data removed]",
      "text/plain": [
       "<Figure size 720x504 with 1 Axes>"
      ]
     },
     "metadata": {
      "needs_background": "light"
     },
     "output_type": "display_data"
    }
   ],
   "source": [
    "import math\n",
    "import numpy as np\n",
    "import pandas as pd\n",
    "from datetime import datetime\n",
    "\n",
    "%matplotlib inline\n",
    "import seaborn as sns\n",
    "from matplotlib import pyplot as plt\n",
    "\n",
    "plt.figure(figsize=(10,7))\n",
    "ax = sns.countplot(data=data, x='failure')\n",
    "for container in ax.containers:\n",
    "    ax.bar_label(container)"
   ]
  },
  {
   "cell_type": "code",
   "execution_count": 27,
   "id": "324c5498",
   "metadata": {},
   "outputs": [],
   "source": [
    "X_train, X_test, y_train, y_test = train_test_split((data.iloc[:,3:]-data.iloc[:,3:].mean())/data.iloc[:,3:].std(), data['failure'], test_size=0.35, random_state=42)"
   ]
  },
  {
   "cell_type": "markdown",
   "id": "2a9d887b",
   "metadata": {},
   "source": [
    "Devido ao desbalanceamento, optamos por ser ligeiramente mais severos quanto a regularização dos parâmetros estimados (explicando a motivação por C=0.6). \n",
    "\n",
    "Notamos que, via _k-fold_, conseguimos boas métricas de avaliação (em média), com baixa variação do seu valor. Dentre as métricas apresentadas, talvez a que se destaca mais pelo contexto do problema é a perda logarítmica.\n",
    "\n",
    "Basicamente quanto menor, ou menos negativo no caso da perda logartimica negativa, esta métrica for, melhor será para avaliação do modelo. Isso ocorre porque estamos atribuindo uma maior probabilidade para cada acerto do modelo. Ao aplicarmos o log na probabilidade prevista pelo modelo, devido ao comportamento da função, probabilidades entre 0.5 e 1 gerarão _scores_ mais próximos de zero. Em contrapartida, se o modelo atribui uma baixa probabilidade a verdadeira classe da observação, a métrica apresentará um _score_ superior a |1|."
   ]
  },
  {
   "cell_type": "code",
   "execution_count": 93,
   "id": "86036b80",
   "metadata": {},
   "outputs": [],
   "source": [
    "warnings.filterwarnings(\"ignore\")\n",
    "\n",
    "logistic_regression = LogisticRegression(penalty='l2', C=0.6, solver='newton-cholesky')\n",
    "cv = RepeatedKFold(n_splits=15, n_repeats=3, random_state=42)"
   ]
  },
  {
   "cell_type": "code",
   "execution_count": 28,
   "id": "1b71099b",
   "metadata": {},
   "outputs": [],
   "source": [
    "sm = SMOTE(random_state=42, sampling_strategy='minority')\n",
    "X_smoted, y_smoted = sm.fit_resample(X_train, y_train)"
   ]
  },
  {
   "cell_type": "code",
   "execution_count": 97,
   "id": "cafe1d29",
   "metadata": {},
   "outputs": [
    {
     "data": {
      "text/plain": [
       "(0.7566895026669987, 0.004738832596369492)"
      ]
     },
     "execution_count": 97,
     "metadata": {},
     "output_type": "execute_result"
    }
   ],
   "source": [
    "accuracy_score = cross_val_score(logistic_regression, X_smoted, y_smoted, scoring='accuracy', cv=cv)\n",
    "(np.mean(accuracy_score), np.std(accuracy_score))"
   ]
  },
  {
   "cell_type": "code",
   "execution_count": 37,
   "id": "e8f6fe46",
   "metadata": {},
   "outputs": [
    {
     "data": {
      "text/plain": [
       "(0.6911520094802709, 0.006346699635791736)"
      ]
     },
     "execution_count": 37,
     "metadata": {},
     "output_type": "execute_result"
    }
   ],
   "source": [
    "f1_score = cross_val_score(logistic_regression, X_smoted, y_smoted, scoring='f1', cv=cv)\n",
    "(np.mean(f1_score), np.std(f1_score))"
   ]
  },
  {
   "cell_type": "code",
   "execution_count": 38,
   "id": "9b3086ba",
   "metadata": {},
   "outputs": [
    {
     "data": {
      "text/plain": [
       "(0.8616402651928519, 0.003748966630181712)"
      ]
     },
     "execution_count": 38,
     "metadata": {},
     "output_type": "execute_result"
    }
   ],
   "source": [
    "roc_auc_score = cross_val_score(logistic_regression, X_smoted, y_smoted, scoring='roc_auc', cv=cv)\n",
    "(np.mean(roc_auc_score), np.std(roc_auc_score))"
   ]
  },
  {
   "cell_type": "code",
   "execution_count": 40,
   "id": "43531a76",
   "metadata": {},
   "outputs": [
    {
     "data": {
      "text/plain": [
       "(-0.5077644700876286, 0.008156283711184677)"
      ]
     },
     "execution_count": 40,
     "metadata": {},
     "output_type": "execute_result"
    }
   ],
   "source": [
    "neg_log_loss_score = cross_val_score(logistic_regression, X_smoted, y_smoted, scoring='neg_log_loss', cv=cv)\n",
    "(np.mean(neg_log_loss_score), np.std(neg_log_loss_score))"
   ]
  },
  {
   "cell_type": "markdown",
   "id": "e3752e41",
   "metadata": {},
   "source": [
    "### Ajuste e Teste do modelo\n",
    "Ao realizarmos a etapa de teste, percebemos uma piora dos _scores_ mais relevantes, f1 e perda logarítmica, enquanto os _scores_ de acurácia e da área sobre a curva podem ser desconsiderados, uma vez que em casos de desbalanceamento de classes ambos não se mostram muito úteis (um modelo que só classifica os dados pela classe majoritária já iriam conseguir bons _scores_ sobre ambas as métricas)."
   ]
  },
  {
   "cell_type": "code",
   "execution_count": 54,
   "id": "cd149aa5",
   "metadata": {},
   "outputs": [],
   "source": [
    "logistic_model = logistic_regression.fit(X_smoted, y_smoted)"
   ]
  },
  {
   "cell_type": "code",
   "execution_count": 64,
   "id": "d9d7965d",
   "metadata": {},
   "outputs": [],
   "source": [
    "y_classified = logistic_model.predict(X_test)\n",
    "probability_predict = logistic_model.predict_proba(X_test)"
   ]
  },
  {
   "cell_type": "code",
   "execution_count": 78,
   "id": "a9424cee",
   "metadata": {},
   "outputs": [],
   "source": [
    "metrics = pd.DataFrame({\n",
    "    'metric':['accuracy', 'f1', 'roc_auc', 'log_loss'],\n",
    "    'score':[accuracy_score(list(y_test), list(y_classified)), f1_score(list(y_test), list(y_classified), average='binary'), roc_auc_score(list(y_test), list(y_classified)), log_loss(list(y_test), list(y_classified))]\n",
    "})"
   ]
  },
  {
   "cell_type": "code",
   "execution_count": 79,
   "id": "594186ff",
   "metadata": {},
   "outputs": [
    {
     "data": {
      "text/html": [
       "<div>\n",
       "<style scoped>\n",
       "    .dataframe tbody tr th:only-of-type {\n",
       "        vertical-align: middle;\n",
       "    }\n",
       "\n",
       "    .dataframe tbody tr th {\n",
       "        vertical-align: top;\n",
       "    }\n",
       "\n",
       "    .dataframe thead th {\n",
       "        text-align: right;\n",
       "    }\n",
       "</style>\n",
       "<table border=\"1\" class=\"dataframe\">\n",
       "  <thead>\n",
       "    <tr style=\"text-align: right;\">\n",
       "      <th></th>\n",
       "      <th>metric</th>\n",
       "      <th>score</th>\n",
       "    </tr>\n",
       "  </thead>\n",
       "  <tbody>\n",
       "    <tr>\n",
       "      <th>0</th>\n",
       "      <td>accuracy</td>\n",
       "      <td>0.969568</td>\n",
       "    </tr>\n",
       "    <tr>\n",
       "      <th>1</th>\n",
       "      <td>f1</td>\n",
       "      <td>0.022124</td>\n",
       "    </tr>\n",
       "    <tr>\n",
       "      <th>2</th>\n",
       "      <td>roc_auc</td>\n",
       "      <td>0.712252</td>\n",
       "    </tr>\n",
       "    <tr>\n",
       "      <th>3</th>\n",
       "      <td>log_loss</td>\n",
       "      <td>1.096869</td>\n",
       "    </tr>\n",
       "  </tbody>\n",
       "</table>\n",
       "</div>"
      ],
      "text/plain": [
       "     metric     score\n",
       "0  accuracy  0.969568\n",
       "1        f1  0.022124\n",
       "2   roc_auc  0.712252\n",
       "3  log_loss  1.096869"
      ]
     },
     "execution_count": 79,
     "metadata": {},
     "output_type": "execute_result"
    }
   ],
   "source": [
    "metrics"
   ]
  },
  {
   "cell_type": "markdown",
   "id": "9d6d6cc3",
   "metadata": {},
   "source": [
    "A curva ROC, bem como a matriz de confundimento (ou confusão) evidenciam os pontos até então discutidos. Acertamos muito na classe '0', ou \"não falha\", (o que era de se esperar), enquanto na classe '1', de \"falha\", tivemos uma classificação similar a jogar uma moeda."
   ]
  },
  {
   "cell_type": "code",
   "execution_count": null,
   "id": "09bb3840",
   "metadata": {},
   "outputs": [],
   "source": [
    "RocCurveDisplay.from_predictions(\n",
    "    y_onehot_test[:, class_id],\n",
    "    y_score[:, class_id],\n",
    "    name=f\"{class_of_interest} vs the rest\",\n",
    "    color=\"darkorange\",\n",
    ")\n",
    "plt.plot([0, 1], [0, 1], \"k--\", label=\"chance level (AUC = 0.5)\")\n",
    "plt.axis(\"square\")\n",
    "plt.xlabel(\"False Positive Rate\")\n",
    "plt.ylabel(\"True Positive Rate\")\n",
    "plt.title(\"One-vs-Rest ROC curves:\\nVirginica vs (Setosa & Versicolor)\")\n",
    "plt.legend()\n",
    "plt.show()"
   ]
  },
  {
   "cell_type": "code",
   "execution_count": 87,
   "id": "a4dba5e8",
   "metadata": {},
   "outputs": [
    {
     "data": {
      "text/plain": [
       "Text(0, 0.5, 'True Positive Rate')"
      ]
     },
     "execution_count": 87,
     "metadata": {},
     "output_type": "execute_result"
    },
    {
     "data": {
      "image/png": "[encoded data removed]",
      "text/plain": [
       "<Figure size 432x288 with 1 Axes>"
      ]
     },
     "metadata": {
      "needs_background": "light"
     },
     "output_type": "display_data"
    }
   ],
   "source": [
    "lr_probs = probability_predict[:, 1]\n",
    "\n",
    "# calculate roc curves\n",
    "ns_fpr, ns_tpr, _ = roc_curve(y_test, np.zeros(len(y_test)))\n",
    "lr_fpr, lr_tpr, _ = roc_curve(y_test, probability_predict[:, 1])\n",
    "\n",
    "plt.plot(ns_fpr, ns_tpr, linestyle='--', label='No Skill')\n",
    "plt.plot(lr_fpr, lr_tpr, linestyle='-', label='Logistic')\n",
    "\n",
    "plt.xlabel('False Positive Rate')\n",
    "plt.ylabel('True Positive Rate')"
   ]
  },
  {
   "cell_type": "code",
   "execution_count": 90,
   "id": "0b49f2e5",
   "metadata": {},
   "outputs": [
    {
     "data": {
      "text/plain": [
       "Text(0.5, 1.0, 'Matriz de Confusão')"
      ]
     },
     "execution_count": 90,
     "metadata": {},
     "output_type": "execute_result"
    },
    {
     "data": {
      "image/png": "[encoded data removed]",
      "text/plain": [
       "<Figure size 432x288 with 2 Axes>"
      ]
     },
     "metadata": {
      "needs_background": "light"
     },
     "output_type": "display_data"
    }
   ],
   "source": [
    "disp = ConfusionMatrixDisplay.from_estimator(\n",
    "        logistic_model,\n",
    "        X_test,\n",
    "        y_test,\n",
    "        display_labels=logistic_model.classes_,\n",
    "        cmap=plt.cm.Blues\n",
    "    )\n",
    "disp.ax_.set_title('Matriz de Confusão')"
   ]
  },
  {
   "cell_type": "code",
   "execution_count": 100,
   "id": "bc34fe8e",
   "metadata": {},
   "outputs": [
    {
     "name": "stdout",
     "output_type": "stream",
     "text": [
      "Custo total gerado pelos erros (falsos positivos e flasos negativos): 672.0\n"
     ]
    }
   ],
   "source": [
    "print(f\"Custo total gerado pelos erros (falsos positivos e flasos negativos): {1308*0.5 + 18}\")"
   ]
  },
  {
   "cell_type": "code",
   "execution_count": 67,
   "id": "a8507786",
   "metadata": {},
   "outputs": [],
   "source": [
    "results = pd.DataFrame({\n",
    "    'class':list(y_classified),\n",
    "    'prob_0':list(probability_predict.T[0]),\n",
    "    'prob_1':list(probability_predict.T[1])\n",
    "})"
   ]
  },
  {
   "cell_type": "code",
   "execution_count": 68,
   "id": "987df5a1",
   "metadata": {},
   "outputs": [
    {
     "data": {
      "text/html": [
       "<div>\n",
       "<style scoped>\n",
       "    .dataframe tbody tr th:only-of-type {\n",
       "        vertical-align: middle;\n",
       "    }\n",
       "\n",
       "    .dataframe tbody tr th {\n",
       "        vertical-align: top;\n",
       "    }\n",
       "\n",
       "    .dataframe thead th {\n",
       "        text-align: right;\n",
       "    }\n",
       "</style>\n",
       "<table border=\"1\" class=\"dataframe\">\n",
       "  <thead>\n",
       "    <tr style=\"text-align: right;\">\n",
       "      <th></th>\n",
       "      <th>class</th>\n",
       "      <th>prob_0</th>\n",
       "      <th>prob_1</th>\n",
       "    </tr>\n",
       "  </thead>\n",
       "  <tbody>\n",
       "    <tr>\n",
       "      <th>0</th>\n",
       "      <td>0</td>\n",
       "      <td>0.848273</td>\n",
       "      <td>0.151727</td>\n",
       "    </tr>\n",
       "    <tr>\n",
       "      <th>1</th>\n",
       "      <td>0</td>\n",
       "      <td>0.574951</td>\n",
       "      <td>0.425049</td>\n",
       "    </tr>\n",
       "    <tr>\n",
       "      <th>2</th>\n",
       "      <td>0</td>\n",
       "      <td>0.696707</td>\n",
       "      <td>0.303293</td>\n",
       "    </tr>\n",
       "    <tr>\n",
       "      <th>3</th>\n",
       "      <td>0</td>\n",
       "      <td>0.661730</td>\n",
       "      <td>0.338270</td>\n",
       "    </tr>\n",
       "    <tr>\n",
       "      <th>4</th>\n",
       "      <td>0</td>\n",
       "      <td>0.646987</td>\n",
       "      <td>0.353013</td>\n",
       "    </tr>\n",
       "    <tr>\n",
       "      <th>...</th>\n",
       "      <td>...</td>\n",
       "      <td>...</td>\n",
       "      <td>...</td>\n",
       "    </tr>\n",
       "    <tr>\n",
       "      <th>43568</th>\n",
       "      <td>1</td>\n",
       "      <td>0.458662</td>\n",
       "      <td>0.541338</td>\n",
       "    </tr>\n",
       "    <tr>\n",
       "      <th>43569</th>\n",
       "      <td>0</td>\n",
       "      <td>0.670988</td>\n",
       "      <td>0.329012</td>\n",
       "    </tr>\n",
       "    <tr>\n",
       "      <th>43570</th>\n",
       "      <td>0</td>\n",
       "      <td>0.627957</td>\n",
       "      <td>0.372043</td>\n",
       "    </tr>\n",
       "    <tr>\n",
       "      <th>43571</th>\n",
       "      <td>0</td>\n",
       "      <td>0.631763</td>\n",
       "      <td>0.368237</td>\n",
       "    </tr>\n",
       "    <tr>\n",
       "      <th>43572</th>\n",
       "      <td>0</td>\n",
       "      <td>0.630876</td>\n",
       "      <td>0.369124</td>\n",
       "    </tr>\n",
       "  </tbody>\n",
       "</table>\n",
       "<p>43573 rows × 3 columns</p>\n",
       "</div>"
      ],
      "text/plain": [
       "       class    prob_0    prob_1\n",
       "0          0  0.848273  0.151727\n",
       "1          0  0.574951  0.425049\n",
       "2          0  0.696707  0.303293\n",
       "3          0  0.661730  0.338270\n",
       "4          0  0.646987  0.353013\n",
       "...      ...       ...       ...\n",
       "43568      1  0.458662  0.541338\n",
       "43569      0  0.670988  0.329012\n",
       "43570      0  0.627957  0.372043\n",
       "43571      0  0.631763  0.368237\n",
       "43572      0  0.630876  0.369124\n",
       "\n",
       "[43573 rows x 3 columns]"
      ]
     },
     "execution_count": 68,
     "metadata": {},
     "output_type": "execute_result"
    }
   ],
   "source": [
    "results"
   ]
  },
  {
   "cell_type": "markdown",
   "id": "86038757",
   "metadata": {},
   "source": [
    "## Discussões Finais e Proposta\n",
    "\n",
    "A aplicação de modelos clássicos de classificação em processos de controle como o do problema, quase sempre é ineficiente. Notamos que a dimensão de tempo, disponível nos dados, é ignorada pelos modelos clássicos de classificação, o que é pouco interessante quando desejamos prever a degeneração de um elemento/dispositivo/máquina/processo de produção.\n",
    "\n",
    "Como tentei fazer algo dentro de um tempo hábil, deixo a minha sugestão para caso gozasse de maior tempo para solução do problema:\n",
    "\n",
    "* A fim de incorporar a dimensão de tempo a modelagem, podemos desenvolver modelos de séries temporais, comuns em Controle Estatístico de Processos (CEP). Tais modelos são mais adequados quando precisamos \"prever\" uma desconformidade rara no processo (entenda processo por falha no dispositivo). Além disso, modelos de séries temporais dificilmente são descontinuados por não precisarem de \"retreino\".\n",
    "* Baseado na priori de que cada um dos processos (ou dispositivos) são multualmente independentes, torna-se desejavel desenvolver um modelo de série temporal para cada (dado que o número dos dispositivos não tenda a crescer).\n",
    "* Modelos de séries temporais, apesar de exigirem mais complexidade, nos proporcionam não só a previsão da probabilidade de falha mais adequada, quanto nos permite indexá-lo em cartas de controle que automatizam a atuação em reparos de eventuais dispositivos."
   ]
  },
  {
   "cell_type": "code",
   "execution_count": null,
   "id": "32c1ccc5",
   "metadata": {},
   "outputs": [],
   "source": []
  }
 ],
 "metadata": {
  "kernelspec": {
   "display_name": "Python 3",
   "language": "python",
   "name": "python3"
  },
  "language_info": {
   "codemirror_mode": {
    "name": "ipython",
    "version": 3
   },
   "file_extension": ".py",
   "mimetype": "text/x-python",
   "name": "python",
   "nbconvert_exporter": "python",
   "pygments_lexer": "ipython3",
   "version": "3.9.7"
  }
 },
 "nbformat": 4,
 "nbformat_minor": 5
}
