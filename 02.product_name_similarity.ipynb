{
 "cells": [
  {
   "cell_type": "markdown",
   "id": "7f801763",
   "metadata": {},
   "source": [
    "# Similaridade entre Produtos\n",
    "### Instale dependências necessarias via:\n",
    "```\n",
    "pip instal requirements.txt\n",
    "```"
   ]
  },
  {
   "cell_type": "code",
   "execution_count": 1,
   "id": "ca017bfa",
   "metadata": {},
   "outputs": [],
   "source": [
    "import logging\n",
    "import warnings\n",
    "import numpy as np\n",
    "import pandas as pd\n",
    "\n",
    "from utils import data_manager, fasttext_model\n",
    "\n",
    "warnings.filterwarnings(\"ignore\",category=DeprecationWarning)"
   ]
  },
  {
   "cell_type": "markdown",
   "id": "e04b4078",
   "metadata": {},
   "source": [
    "### Instalando lista de _stopwords_ via nltk.\n",
    "O uso do instalador nltk é conveniente para remoção de _stopwords_ uma vez que o mesmo gera um arquivo local, nos possibilitando adicionar/remover palavvras da lista vigente."
   ]
  },
  {
   "cell_type": "code",
   "execution_count": 2,
   "id": "dab23cd8",
   "metadata": {},
   "outputs": [
    {
     "name": "stderr",
     "output_type": "stream",
     "text": [
      "[nltk_data] Downloading package stopwords to\n",
      "[nltk_data]     /home/robsonortz/nltk_data...\n",
      "[nltk_data]   Package stopwords is already up-to-date!\n"
     ]
    },
    {
     "data": {
      "text/plain": [
       "True"
      ]
     },
     "execution_count": 2,
     "metadata": {},
     "output_type": "execute_result"
    }
   ],
   "source": [
    "import nltk\n",
    "nltk.download(\"stopwords\")"
   ]
  },
  {
   "cell_type": "code",
   "execution_count": 3,
   "id": "7d21a89b",
   "metadata": {},
   "outputs": [],
   "source": [
    "from nltk.corpus import stopwords\n",
    "stopwords = stopwords.words('portuguese')"
   ]
  },
  {
   "cell_type": "markdown",
   "id": "7e919c7c",
   "metadata": {},
   "source": [
    "### Leitura e tratamento dos dados\n",
    "\n",
    "Aplicamos o processo de normalização de _tokens_ (aplicamos _lower case_ nas sentenças, removemos caracteres especiais e _tokens_ numéricos) e remoção de _stopwords_.\n",
    "\n",
    "Optamos por considerar apenas títulos que contenham, ao final do tratamento, ao menos 2 _tokens_. Pois o conjunto textual é composto por textos curtos e para evitar problemas com o modelos de _embedding_ selecionado (_fasttext_), que geralmente se desempenha melhor em textos longos, obtamos por remover títulos que resultam em uma única palavra. \n",
    "\n",
    "Modelos pré-treinados, utilizados para _fine tuning_ de processos de NLP, são mais adequados para tais dados. No entanto, boa parte desses, que realizam seu pré-treino em _corpus_ em português ou de multilinguagem, são caros e geralemente utlizam recursos de GPU."
   ]
  },
  {
   "cell_type": "code",
   "execution_count": 4,
   "id": "dfb41858",
   "metadata": {},
   "outputs": [
    {
     "data": {
      "text/plain": [
       "(29940, 9979)"
      ]
     },
     "execution_count": 4,
     "metadata": {},
     "output_type": "execute_result"
    }
   ],
   "source": [
    "dm = data_manager.DataManager()\n",
    "\n",
    "train_items_titles = dm.text_tokenizer(list(pd.read_csv('data/items_titles.csv').values.T[0]), stopwords)\n",
    "test_items_titles = dm.text_tokenizer(list(pd.read_csv('data/items_titles_test.csv').values.T[0]), stopwords)\n",
    "len(train_items_titles), len(test_items_titles)"
   ]
  },
  {
   "cell_type": "markdown",
   "id": "0d27f234",
   "metadata": {},
   "source": [
    "### Treinamento do modelo _fasttext_\n",
    "\n"
   ]
  },
  {
   "cell_type": "code",
   "execution_count": 5,
   "id": "006a5d2d",
   "metadata": {},
   "outputs": [],
   "source": [
    "config = dm.set_configurations('config')\n",
    "ftm = fasttext_model.ModelManager(config)"
   ]
  },
  {
   "cell_type": "code",
   "execution_count": 8,
   "id": "028f8e7c",
   "metadata": {},
   "outputs": [],
   "source": [
    "ftm.train_model(train_items_titles)"
   ]
  },
  {
   "cell_type": "markdown",
   "id": "157b8a03",
   "metadata": {},
   "source": [
    "### Obtenção dos embedding para os dados de teste"
   ]
  },
  {
   "cell_type": "code",
   "execution_count": 7,
   "id": "79603ac0",
   "metadata": {},
   "outputs": [],
   "source": [
    "embedding_list = ftm.vector_matrix_embedding(test_items_titles)"
   ]
  },
  {
   "cell_type": "markdown",
   "id": "0598fd1f",
   "metadata": {},
   "source": [
    "O processo de geração de _embedding_ pode demorar, se necessário usar o código de _checkpoint_ abaixo para evitar perda de informação dos _embedding_. \n",
    "\n",
    "Após salvar os dados, podemos ler, a qualquer momento, o `.csv` completo. Lembrondo que devemos tratá-lo para que atenda a estrutura correta de colunas."
   ]
  },
  {
   "cell_type": "code",
   "execution_count": 28,
   "id": "6f01ea24",
   "metadata": {},
   "outputs": [],
   "source": [
    "##checkpoint\n",
    "\n",
    "# data_test_embedding = pd.DataFrame({\n",
    "#     'product_name':list(map(' '.join, test_items_titles))\n",
    "# })\n",
    "\n",
    "# data_test_embedding = pd.concat([data_test_embedding, pd.DataFrame(embedding_list)], axis=1)\n",
    "# data_test_embedding.to_csv('data/data_test_embedding_checkpoint.csv')"
   ]
  },
  {
   "cell_type": "code",
   "execution_count": 31,
   "id": "62d02193",
   "metadata": {
    "scrolled": true
   },
   "outputs": [
    {
     "data": {
      "text/html": [
       "<div>\n",
       "<style scoped>\n",
       "    .dataframe tbody tr th:only-of-type {\n",
       "        vertical-align: middle;\n",
       "    }\n",
       "\n",
       "    .dataframe tbody tr th {\n",
       "        vertical-align: top;\n",
       "    }\n",
       "\n",
       "    .dataframe thead th {\n",
       "        text-align: right;\n",
       "    }\n",
       "</style>\n",
       "<table border=\"1\" class=\"dataframe\">\n",
       "  <thead>\n",
       "    <tr style=\"text-align: right;\">\n",
       "      <th></th>\n",
       "      <th>product_name</th>\n",
       "      <th>embeddings_vector</th>\n",
       "    </tr>\n",
       "  </thead>\n",
       "  <tbody>\n",
       "    <tr>\n",
       "      <th>0</th>\n",
       "      <td>tenis olympikus esporte valente masculino kids</td>\n",
       "      <td>[1.6316595673561096, -2.2509637754410505, 0.59...</td>\n",
       "    </tr>\n",
       "    <tr>\n",
       "      <th>1</th>\n",
       "      <td>bicicleta barra forte samy marchas cubo rolamento</td>\n",
       "      <td>[0.987981466576457, 0.9649230418726802, 0.7371...</td>\n",
       "    </tr>\n",
       "    <tr>\n",
       "      <th>2</th>\n",
       "      <td>tenis usthemp slip on tema tico labrador</td>\n",
       "      <td>[-4.3989940993487835, -0.7319259578362107, -3....</td>\n",
       "    </tr>\n",
       "    <tr>\n",
       "      <th>3</th>\n",
       "      <td>tenis casual feminino moleca tecido tie dye</td>\n",
       "      <td>[4.7329486683011055, -0.6628666631877422, -0.6...</td>\n",
       "    </tr>\n",
       "    <tr>\n",
       "      <th>4</th>\n",
       "      <td>tenis star baby sapatinho conforto brinde</td>\n",
       "      <td>[-1.232651636004448, -1.4965157099068165, -0.0...</td>\n",
       "    </tr>\n",
       "    <tr>\n",
       "      <th>...</th>\n",
       "      <td>...</td>\n",
       "      <td>...</td>\n",
       "    </tr>\n",
       "    <tr>\n",
       "      <th>9974</th>\n",
       "      <td>chuteira futsal oxn velox infantil</td>\n",
       "      <td>[1.0121160000562668, -0.6645795181393623, -0.0...</td>\n",
       "    </tr>\n",
       "    <tr>\n",
       "      <th>9975</th>\n",
       "      <td>sapatenis casual masculino estiloso horas conf...</td>\n",
       "      <td>[-2.4321695286780596, -3.1090461295098066, -2....</td>\n",
       "    </tr>\n",
       "    <tr>\n",
       "      <th>9976</th>\n",
       "      <td>tenis feminino infantil molekinha tie dye</td>\n",
       "      <td>[5.016561217606068, -0.2409418597817421, 0.598...</td>\n",
       "    </tr>\n",
       "    <tr>\n",
       "      <th>9977</th>\n",
       "      <td>tenis feminino leve barato ganhe colchonete tr...</td>\n",
       "      <td>[1.1084097921848297, -3.5079212710261345, 0.59...</td>\n",
       "    </tr>\n",
       "    <tr>\n",
       "      <th>9978</th>\n",
       "      <td>tenis polo ralph lauren modelo cantor low bran...</td>\n",
       "      <td>[-3.3019076138734818, -1.8667317293584347, 0.9...</td>\n",
       "    </tr>\n",
       "  </tbody>\n",
       "</table>\n",
       "<p>9979 rows × 2 columns</p>\n",
       "</div>"
      ],
      "text/plain": [
       "                                           product_name  \\\n",
       "0        tenis olympikus esporte valente masculino kids   \n",
       "1     bicicleta barra forte samy marchas cubo rolamento   \n",
       "2              tenis usthemp slip on tema tico labrador   \n",
       "3           tenis casual feminino moleca tecido tie dye   \n",
       "4             tenis star baby sapatinho conforto brinde   \n",
       "...                                                 ...   \n",
       "9974                 chuteira futsal oxn velox infantil   \n",
       "9975  sapatenis casual masculino estiloso horas conf...   \n",
       "9976          tenis feminino infantil molekinha tie dye   \n",
       "9977  tenis feminino leve barato ganhe colchonete tr...   \n",
       "9978  tenis polo ralph lauren modelo cantor low bran...   \n",
       "\n",
       "                                      embeddings_vector  \n",
       "0     [1.6316595673561096, -2.2509637754410505, 0.59...  \n",
       "1     [0.987981466576457, 0.9649230418726802, 0.7371...  \n",
       "2     [-4.3989940993487835, -0.7319259578362107, -3....  \n",
       "3     [4.7329486683011055, -0.6628666631877422, -0.6...  \n",
       "4     [-1.232651636004448, -1.4965157099068165, -0.0...  \n",
       "...                                                 ...  \n",
       "9974  [1.0121160000562668, -0.6645795181393623, -0.0...  \n",
       "9975  [-2.4321695286780596, -3.1090461295098066, -2....  \n",
       "9976  [5.016561217606068, -0.2409418597817421, 0.598...  \n",
       "9977  [1.1084097921848297, -3.5079212710261345, 0.59...  \n",
       "9978  [-3.3019076138734818, -1.8667317293584347, 0.9...  \n",
       "\n",
       "[9979 rows x 2 columns]"
      ]
     },
     "execution_count": 31,
     "metadata": {},
     "output_type": "execute_result"
    }
   ],
   "source": [
    "data_test_embedding = pd.DataFrame({\n",
    "    'product_name':list(map(' '.join, test_items_titles)),\n",
    "    'embeddings_vector':list(embedding_list)\n",
    "})\n",
    "\n",
    "data_test_embedding"
   ]
  },
  {
   "cell_type": "markdown",
   "id": "17b4225c",
   "metadata": {},
   "source": [
    "### Resultados\n",
    "\n",
    "Enquanto named_rows apresenta os três produtos mais similares ao produto da chave do dicionário, o _output_ simil apresenta os escores de similaridade via KDTree."
   ]
  },
  {
   "cell_type": "code",
   "execution_count": 54,
   "id": "8b9a2214",
   "metadata": {},
   "outputs": [
    {
     "data": {
      "application/vnd.jupyter.widget-view+json": {
       "model_id": "cd51441006a74447914d97e84dc9c0da",
       "version_major": 2,
       "version_minor": 0
      },
      "text/plain": [
       "Pandas Apply:   0%|          | 0/9979 [00:00<?, ?it/s]"
      ]
     },
     "metadata": {},
     "output_type": "display_data"
    },
    {
     "data": {
      "application/vnd.jupyter.widget-view+json": {
       "model_id": "c3fff3e3918f457db3e45d3c62ee6578",
       "version_major": 2,
       "version_minor": 0
      },
      "text/plain": [
       "Pandas Apply:   0%|          | 0/9979 [00:00<?, ?it/s]"
      ]
     },
     "metadata": {},
     "output_type": "display_data"
    }
   ],
   "source": [
    "named_rows, simil = dm.kdtree_similarity(data_test_embedding)"
   ]
  },
  {
   "cell_type": "code",
   "execution_count": 63,
   "id": "f5727c70",
   "metadata": {},
   "outputs": [],
   "source": [
    "final_list = []\n",
    "\n",
    "for result in simil:\n",
    "    final_list.append(\n",
    "        [data_test_embedding['product_name'][result[0]],data_test_embedding['product_name'][result[1]],result[2]]\n",
    "    )\n",
    "\n",
    "results = pd.DataFrame(final_list, columns=['ITE_ITEM_TITLE', 'ITE_ITEM_TITLE', 'score(0,1)'])\n",
    "results.to_csv('similarity_results')"
   ]
  },
  {
   "cell_type": "code",
   "execution_count": 64,
   "id": "eb51d113",
   "metadata": {},
   "outputs": [
    {
     "data": {
      "text/html": [
       "<div>\n",
       "<style scoped>\n",
       "    .dataframe tbody tr th:only-of-type {\n",
       "        vertical-align: middle;\n",
       "    }\n",
       "\n",
       "    .dataframe tbody tr th {\n",
       "        vertical-align: top;\n",
       "    }\n",
       "\n",
       "    .dataframe thead th {\n",
       "        text-align: right;\n",
       "    }\n",
       "</style>\n",
       "<table border=\"1\" class=\"dataframe\">\n",
       "  <thead>\n",
       "    <tr style=\"text-align: right;\">\n",
       "      <th></th>\n",
       "      <th>ITE_ITEM_TITLE</th>\n",
       "      <th>ITE_ITEM_TITLE</th>\n",
       "      <th>score(0,1)</th>\n",
       "    </tr>\n",
       "  </thead>\n",
       "  <tbody>\n",
       "    <tr>\n",
       "      <th>0</th>\n",
       "      <td>tenis usthemp one art maltes carolina spina</td>\n",
       "      <td>tenis usthemp one tema tico vaquinha</td>\n",
       "      <td>0.717470</td>\n",
       "    </tr>\n",
       "    <tr>\n",
       "      <th>1</th>\n",
       "      <td>tenis usthemp one art maltes carolina spina</td>\n",
       "      <td>tenis usthemp one tema tico design</td>\n",
       "      <td>0.734706</td>\n",
       "    </tr>\n",
       "    <tr>\n",
       "      <th>2</th>\n",
       "      <td>tenis usthemp one art maltes carolina spina</td>\n",
       "      <td>tenis usthemp one tema tico girafa</td>\n",
       "      <td>0.729569</td>\n",
       "    </tr>\n",
       "    <tr>\n",
       "      <th>3</th>\n",
       "      <td>tenis usthemp one art maltes carolina spina</td>\n",
       "      <td>tenis usthemp one tema tico gato himalaio</td>\n",
       "      <td>0.739258</td>\n",
       "    </tr>\n",
       "    <tr>\n",
       "      <th>4</th>\n",
       "      <td>tenis usthemp one art maltes carolina spina</td>\n",
       "      <td>tenis usthemp one vegano casual estampa libra</td>\n",
       "      <td>0.752781</td>\n",
       "    </tr>\n",
       "    <tr>\n",
       "      <th>...</th>\n",
       "      <td>...</td>\n",
       "      <td>...</td>\n",
       "      <td>...</td>\n",
       "    </tr>\n",
       "    <tr>\n",
       "      <th>2572946</th>\n",
       "      <td>tenis juvenil lol</td>\n",
       "      <td>tenis infantil lol lancamento envio imediato b...</td>\n",
       "      <td>0.760908</td>\n",
       "    </tr>\n",
       "    <tr>\n",
       "      <th>2572947</th>\n",
       "      <td>tenis fila formation feminino</td>\n",
       "      <td>tenis fila squall feminino</td>\n",
       "      <td>0.601745</td>\n",
       "    </tr>\n",
       "    <tr>\n",
       "      <th>2572948</th>\n",
       "      <td>tenis fila formation feminino</td>\n",
       "      <td>tenis feminino fila extase original</td>\n",
       "      <td>0.518904</td>\n",
       "    </tr>\n",
       "    <tr>\n",
       "      <th>2572949</th>\n",
       "      <td>tenis fila formation feminino</td>\n",
       "      <td>tenis fila feminino formation branco revendedo...</td>\n",
       "      <td>0.367734</td>\n",
       "    </tr>\n",
       "    <tr>\n",
       "      <th>2572950</th>\n",
       "      <td>tenis fila feminino formation branco revendedo...</td>\n",
       "      <td>tenis feminino fila extase original</td>\n",
       "      <td>0.560534</td>\n",
       "    </tr>\n",
       "  </tbody>\n",
       "</table>\n",
       "<p>2572951 rows × 3 columns</p>\n",
       "</div>"
      ],
      "text/plain": [
       "                                            ITE_ITEM_TITLE  \\\n",
       "0              tenis usthemp one art maltes carolina spina   \n",
       "1              tenis usthemp one art maltes carolina spina   \n",
       "2              tenis usthemp one art maltes carolina spina   \n",
       "3              tenis usthemp one art maltes carolina spina   \n",
       "4              tenis usthemp one art maltes carolina spina   \n",
       "...                                                    ...   \n",
       "2572946                                  tenis juvenil lol   \n",
       "2572947                      tenis fila formation feminino   \n",
       "2572948                      tenis fila formation feminino   \n",
       "2572949                      tenis fila formation feminino   \n",
       "2572950  tenis fila feminino formation branco revendedo...   \n",
       "\n",
       "                                            ITE_ITEM_TITLE  score(0,1)  \n",
       "0                     tenis usthemp one tema tico vaquinha    0.717470  \n",
       "1                       tenis usthemp one tema tico design    0.734706  \n",
       "2                       tenis usthemp one tema tico girafa    0.729569  \n",
       "3                tenis usthemp one tema tico gato himalaio    0.739258  \n",
       "4            tenis usthemp one vegano casual estampa libra    0.752781  \n",
       "...                                                    ...         ...  \n",
       "2572946  tenis infantil lol lancamento envio imediato b...    0.760908  \n",
       "2572947                         tenis fila squall feminino    0.601745  \n",
       "2572948                tenis feminino fila extase original    0.518904  \n",
       "2572949  tenis fila feminino formation branco revendedo...    0.367734  \n",
       "2572950                tenis feminino fila extase original    0.560534  \n",
       "\n",
       "[2572951 rows x 3 columns]"
      ]
     },
     "execution_count": 64,
     "metadata": {},
     "output_type": "execute_result"
    }
   ],
   "source": [
    "results"
   ]
  }
 ],
 "metadata": {
  "kernelspec": {
   "display_name": "Python 3",
   "language": "python",
   "name": "python3"
  },
  "language_info": {
   "codemirror_mode": {
    "name": "ipython",
    "version": 3
   },
   "file_extension": ".py",
   "mimetype": "text/x-python",
   "name": "python",
   "nbconvert_exporter": "python",
   "pygments_lexer": "ipython3",
   "version": "3.9.7"
  }
 },
 "nbformat": 4,
 "nbformat_minor": 5
}
